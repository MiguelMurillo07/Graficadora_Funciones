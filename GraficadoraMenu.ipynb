{
  "nbformat": 4,
  "nbformat_minor": 0,
  "metadata": {
    "colab": {
      "provenance": [],
      "authorship_tag": "ABX9TyO2ERu3gTFftMEb/Es9tTeP",
      "include_colab_link": true
    },
    "kernelspec": {
      "name": "python3",
      "display_name": "Python 3"
    },
    "language_info": {
      "name": "python"
    }
  },
  "cells": [
    {
      "cell_type": "markdown",
      "metadata": {
        "id": "view-in-github",
        "colab_type": "text"
      },
      "source": [
        "<a href=\"https://colab.research.google.com/github/MiguelMurillo07/Graficadora_Funciones/blob/main/GraficadoraMenu.ipynb\" target=\"_parent\"><img src=\"https://colab.research.google.com/assets/colab-badge.svg\" alt=\"Open In Colab\"/></a>"
      ]
    },
    {
      "cell_type": "markdown",
      "source": [
        "# Gráficas Matemáticas con Menú de Opciones.\n"
      ],
      "metadata": {
        "id": "X9J3tOfwJ240"
      }
    },
    {
      "cell_type": "code",
      "source": [
        "import numpy as np\n",
        "import matplotlib.pyplot as plt\n",
        "from cmath import sqrt"
      ],
      "metadata": {
        "id": "kuuZeMxBPjgb"
      },
      "execution_count": 13,
      "outputs": []
    },
    {
      "cell_type": "code",
      "source": [
        "print(\"-----------------------------------\")\n",
        "print(\"-------Graficadora Matemática------\")\n",
        "print(\"-----------------------------------\")\n",
        "\n",
        "print(\"\\n Bienvenido al portal de Graficación de Funciones.\")\n",
        "\n",
        "# input\n",
        "\n",
        "print(\"\\n \\nDame la opción que deseas hacer para graficar: \\n\")\n",
        "# Se despliega el menú para seleccionar la función a realizar:\n",
        "print(\"1. Función Lineal.\")\n",
        "print(\"2. Función Cuadrática.\")\n",
        "print(\"3. Función Cúbica.\")\n",
        "print(\"4. Función Exponencial.\")\n",
        "print(\"5. Función Logaritmica.\")\n",
        "print(\"6. Función Trigonométrica.\")\n",
        "print(\"7. Función Valor Absoluto.\")\n",
        "print(\"8. Función Radical.\")\n",
        "\n",
        "opc = int(input(\"Digita la opción que quieras graficar: \"))\n",
        "\n",
        "\n",
        "# Processing\n",
        "\n",
        "\n",
        "if opc == 1:\n",
        "  n = 100\n",
        "  def funcion_lineal(m , b , x):\n",
        "    return m * x + b\n",
        "\n",
        "  # Input\n",
        "  print(\"--------------------------\")\n",
        "  print(\"------Función Lineal------\")\n",
        "  print(\"--------y = mx + b--------\")\n",
        "\n",
        "  m = int(input(\"Digite el valor de la pendiente: \"))\n",
        "  b = int(input(\"Digite el valor del punto de corte con el eje y: \"))\n",
        "\n",
        "  # Processing - Graphication\n",
        "\n",
        "  x = np.linspace(-10 , 10 , num=n)\n",
        "  y = funcion_lineal(m , b , x)\n",
        "\n",
        "  plt.plot(x , y , color=\"r\")\n",
        "  plt.xlabel(\"x\")\n",
        "  plt.ylabel(\"y\")\n",
        "  plt.title(\"Función Lineal: y = mx + b\")\n",
        "  plt.grid()\n",
        "  plt.axhline(y = 0, color=\"b\")\n",
        "  plt.axvline(x = 0, color=\"b\")\n",
        "  plt.show()\n",
        "\n",
        "elif opc == 2:\n",
        "  n = 100\n",
        "  def funcion_cuadratica(a, b ,c):\n",
        "    return (-b+sqrt(b**2-(4*a*c)))/(2*a) and (-b-sqrt(b**2-(4*a*c)))/(2*a)\n",
        "\n",
        "  # Input\n",
        "  print(\"------------------------------\")\n",
        "  print(\"------Función Cuadrática------\")\n",
        "  print(\"-------ax² + bx + c = 0-------\")\n",
        "   \n",
        "  a = int(input(\"Digita el valor del término cuadrático: \"))\n",
        "  b = int(input(\"Digita el valor del término lineal: \"))\n",
        "  c = int(input(\"Digita el valor del término independiente: \"))\n",
        "  x1 = 0\n",
        "  x2 = 0\n",
        "\n",
        "  # Processing - Graphication\n",
        "  if ((b**2)-4*a*c) < 0:\n",
        "    print(\"La solución final hace parte de los números complejos.\")\n",
        "\n",
        "  else:\n",
        "    x1 = (-b+sqrt(b**2-(4*a*c)))/(2*a)\n",
        "    x2 = (-b-sqrt(b**2-(4*a*c)))/(2*a)\n",
        "\n",
        "  x = np.linspace(-10, 10 , num=n) \n",
        "  y = funcion_cuadratica(a, b, c)\n",
        "\n",
        "  plt.plot(x , y , color=\"r\")\n",
        "  plt.xlabel(\"x\")\n",
        "  plt.ylabel(\"y\")\n",
        "  plt.title(\"Función Cuadrática: ax² + bx + c = 0\")\n",
        "  plt.grid()\n",
        "  plt.axhline(y = 0, color=\"b\")\n",
        "  plt.axvline(x = 0, color=\"b\")\n",
        "  plt.show()\n",
        "\n",
        "\n",
        "elif opc == 3:\n",
        "  # input\n",
        "  print(\"---------------------------\")\n",
        "  print(\"-------Función Cúbica------\")\n",
        "  print(\"-----ax3 + bx² + c + d-----\")"
      ],
      "metadata": {
        "id": "H5IWvrROKnDj"
      },
      "execution_count": null,
      "outputs": []
    }
  ]
}