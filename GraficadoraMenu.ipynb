{
  "nbformat": 4,
  "nbformat_minor": 0,
  "metadata": {
    "colab": {
      "provenance": [],
      "authorship_tag": "ABX9TyMglZ3JDHAPQSfSGDoqEBuA",
      "include_colab_link": true
    },
    "kernelspec": {
      "name": "python3",
      "display_name": "Python 3"
    },
    "language_info": {
      "name": "python"
    }
  },
  "cells": [
    {
      "cell_type": "markdown",
      "metadata": {
        "id": "view-in-github",
        "colab_type": "text"
      },
      "source": [
        "<a href=\"https://colab.research.google.com/github/MiguelMurillo07/Graficadora_Funciones/blob/main/GraficadoraMenu.ipynb\" target=\"_parent\"><img src=\"https://colab.research.google.com/assets/colab-badge.svg\" alt=\"Open In Colab\"/></a>"
      ]
    },
    {
      "cell_type": "markdown",
      "source": [
        "# Gráficas Matemáticas con Menú de Opciones.\n"
      ],
      "metadata": {
        "id": "X9J3tOfwJ240"
      }
    },
    {
      "cell_type": "code",
      "source": [
        "print(\"-----------------------------------\")\n",
        "print(\"-------Graficadora Matemática------\")\n",
        "print(\"-----------------------------------\")\n",
        "\n",
        "print(\"\\n Bienvenido al portal de Graficación de Funciones.\")\n",
        "\n",
        "# input\n",
        "\n",
        "print(\"\\n \\n Dame la opción que deseas hacer para graficar: \\n\")\n",
        "# Se despliega el menú para seleccionar la función a realizar:\n",
        "print(\"1. Función Lineal.\")\n",
        "print(\"2. Función Cuadrática.\")\n",
        "print(\"3. Función Cúbica.\")\n",
        "print(\"4. Función Exponencial.\")\n",
        "print(\"5. Función Logaritmica.\")\n",
        "print(\"6. Función Trigonométrica.\")\n",
        "print(\"7. Función Valor Absoluto.\")\n",
        "print(\"8. Función Radical.\")\n",
        "\n"
      ],
      "metadata": {
        "colab": {
          "base_uri": "https://localhost:8080/"
        },
        "id": "H5IWvrROKnDj",
        "outputId": "51d9d225-0c2e-49f2-874b-accbb39b4ffe"
      },
      "execution_count": 1,
      "outputs": [
        {
          "output_type": "stream",
          "name": "stdout",
          "text": [
            "-----------------------------------\n",
            "-------Graficadora Matemática------\n",
            "-----------------------------------\n",
            "\n",
            " Bienvenido al portal de Graficación de Funciones.\n"
          ]
        }
      ]
    }
  ]
}